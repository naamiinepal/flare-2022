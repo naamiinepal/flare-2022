{
 "cells": [
  {
   "cell_type": "code",
   "execution_count": 2,
   "metadata": {},
   "outputs": [],
   "source": [
    "import sys\n",
    "sys.path.append(\"../\")"
   ]
  },
  {
   "cell_type": "code",
   "execution_count": 3,
   "metadata": {},
   "outputs": [],
   "source": [
    "from glob import glob\n",
    "from monai.data import Dataset, DataLoader\n",
    "from monai.data.box_utils import convert_box_mode\n",
    "from monai.transforms import (\n",
    "    Compose,\n",
    "    LoadImaged,\n",
    "    EnsureChannelFirstd,\n",
    "    Orientationd,\n",
    "    CropForegroundd,\n",
    "    Spacingd,\n",
    "    ForegroundMask\n",
    ")\n",
    "import os.path\n",
    "from tqdm import tqdm\n",
    "from matplotlib import pyplot as plt\n",
    "import numpy as np\n",
    "import torch\n",
    "import itk\n",
    "import tempfile\n",
    "import math\n"
   ]
  },
  {
   "cell_type": "code",
   "execution_count": 4,
   "metadata": {},
   "outputs": [],
   "source": [
    "def save_nifti_from_array(img_array, output_dir,  filename):\n",
    "    filename = os.path.join(output_dir, f\"{filename}.nii.gz\")\n",
    "    itk_np_view = itk.image_view_from_array(img_array)\n",
    "    itk.imwrite(itk_np_view, filename)"
   ]
  },
  {
   "cell_type": "code",
   "execution_count": 5,
   "metadata": {},
   "outputs": [],
   "source": [
    "min_abdomen_size_mm = (125, 125, 320)  # in mm\n",
    "def get_min_sized_abdomen(orig_size_pix, img_pix_dim, boxes_pix: torch.Tensor):\n",
    "    \"\"\"\n",
    "    Returns the bounding box of the minimum sized abdomen in pixels.\n",
    "    Extracts the physical size of the abdomen from the given bounding box.\n",
    "    If the abdomen is too small, expands the bounding box to the minimum size, \n",
    "    else does not change the bounding box.\n",
    "    This function does not change the original resolution of the image.\n",
    "    \"\"\"\n",
    "    print(img_pix_dim, \"Old box\",  boxes_pix)\n",
    "    img_size_mm = img_pix_dim * orig_size_pix\n",
    "    boxes_mm = torch.concat((boxes_pix[:3] * img_pix_dim, boxes_pix[3:] * img_pix_dim))\n",
    "\n",
    "    xcenter, ycenter, zcenter, xsize, ysize, zsize = convert_box_mode(\n",
    "        boxes_mm.unsqueeze(0), src_mode=\"xyzxyz\", dst_mode=\"cccwhd\"\n",
    "    ).squeeze(0)\n",
    "    xsize_min, ysize_min, zsize_min = np.maximum(min_abdomen_size_mm, (xsize, ysize, zsize))\n",
    "    xmin, ymin, zmin, xmax, ymax, zmax = convert_box_mode(\n",
    "        torch.tensor([[xcenter, ycenter, zcenter, xsize_min, ysize_min, zsize_min]]),\n",
    "        src_mode=\"cccwhd\",\n",
    "        dst_mode=\"xyzxyz\",\n",
    "    ).squeeze(0).numpy()\n",
    "\n",
    "    # convert back to pixel coordinates\n",
    "    x1 = math.floor(max(0, boxes_pix[0] - abs(xmin)) / img_pix_dim[0])\n",
    "    y1 = math.floor(max(0, boxes_pix[1] - abs(ymin)) / img_pix_dim[1])\n",
    "    z1 = math.floor(max(0, boxes_pix[2] - abs(zmin)) / img_pix_dim[2])\n",
    "    x2 = math.floor(xmax / img_pix_dim[0])\n",
    "    y2 = math.floor(ymax / img_pix_dim[1])\n",
    "    z2 = math.floor(zmax / img_pix_dim[2])\n",
    "\n",
    "    print(\"New box: \", x1, y1, z1, x2, y2, z2)\n",
    "    return x1, y1, z1, x2, y2, z2"
   ]
  },
  {
   "cell_type": "code",
   "execution_count": 6,
   "metadata": {},
   "outputs": [],
   "source": [
    "supervised_dir = \"/mnt/HDD2/flare2022/datasets/FLARE2022/Training/FLARE22_LabeledCase50\"\n",
    "def get_paths(path: str):\n",
    "    paths = glob(os.path.join(supervised_dir, path, \"*.nii.gz\"))\n",
    "    paths.sort()\n",
    "    return paths"
   ]
  },
  {
   "cell_type": "code",
   "execution_count": 7,
   "metadata": {},
   "outputs": [],
   "source": [
    "image_paths = get_paths(\"images\")\n",
    "label_paths = get_paths(\"labels\")\n",
    "\n",
    "data_dicts = tuple(\n",
    "    {\"image\": img, \"label\": lab} for img, lab in zip(image_paths, label_paths)\n",
    ")\n"
   ]
  },
  {
   "cell_type": "code",
   "execution_count": 8,
   "metadata": {},
   "outputs": [],
   "source": [
    "coarse_roi_size = (128, 128, 64)\n",
    "fine_roi_size = (192, 192, 96)\n",
    "intermediate_roi_size = (256, 256, 128)\n",
    "coarse_scale = np.asarray(intermediate_roi_size) / np.asarray(coarse_roi_size)\n",
    "inverse_coarse_scale = tuple(1 / coarse_scale)\n",
    "\n",
    "output_dir = \"~/coarse_resized_data\"\n",
    "gpu_index = -1\n",
    "sw_batch_size = 2\n",
    "sw_overlap = 0.25\n",
    "num_workers = 4\n",
    "\n",
    "coarse_ckpt_path = \"../coarse_boundingmask_semi.ts\"\n",
    "\n",
    "keys = (\"image\", \"label\")\n"
   ]
  },
  {
   "cell_type": "markdown",
   "metadata": {},
   "source": [
    "# Explore Abdomen Sizes in different images"
   ]
  },
  {
   "cell_type": "code",
   "execution_count": 113,
   "metadata": {},
   "outputs": [],
   "source": [
    "transforms = Compose(\n",
    "        (\n",
    "            LoadImaged(reader=\"NibabelReader\", keys=keys),\n",
    "            EnsureChannelFirstd(keys=keys),\n",
    "            CustomResized(keys=keys, roi_size=coarse_roi_size),\n",
    "            Orientationd(keys=keys, axcodes=\"RAI\"),\n",
    "            HistogramNormalized(keys=\"image\", min=-1, max=1),\n",
    "            ToTensord(keys=keys),\n",
    "        )\n",
    "    )\n",
    "\n",
    "dataset = Dataset(data_dicts, transforms)\n",
    "\n",
    "saver = NiftiSaver(\n",
    "    output_dir,\n",
    "    output_dtype=np.uint8,\n",
    "    dtype=np.float32,\n",
    "    mode=\"nearest\",\n",
    "    padding_mode=\"zeros\",\n",
    "    separate_folder=False,\n",
    "    channel_dim=0,\n",
    "    print_log=True,  # make false for docker\n",
    ")\n",
    "\n",
    "device = torch.device(\"cpu\" if gpu_index < 0 else f\"cuda:{gpu_index}\")\n",
    "\n",
    "coarse_sliding_inferer = SlidingWindowInferer(\n",
    "    coarse_roi_size,\n",
    "    sw_batch_size,\n",
    "    sw_overlap,\n",
    "    mode=\"gaussian\",\n",
    "    cache_roi_weight_map=True,\n",
    ")\n",
    "\n",
    "# resize_fine = CustomResize(roi_size=fine_roi_size, image_only=True)\n",
    "\n",
    "keep_connected_component_coarse = KeepLargestConnectedComponent(\n",
    "            independent=False,\n",
    "            connectivity=None,\n",
    "        )\n",
    "\n",
    "crop_foreground = CropForegroundd(keys=keys, source_key=\"label\")\n",
    "foreground_mask = ForegroundMask()\n",
    "\n",
    "dl = DataLoader(\n",
    "    dataset,\n",
    "    batch_size=1,  # Because the images do not align and are not cropped\n",
    "    num_workers=num_workers,\n",
    ")\n",
    "\n",
    "def get_label_volume(arr, pix_dim):\n",
    "    arr = np.count_nonzero(arr)\n",
    "    return arr * pix_dim[0] * pix_dim[1] * pix_dim[2]"
   ]
  },
  {
   "cell_type": "code",
   "execution_count": 114,
   "metadata": {},
   "outputs": [],
   "source": [
    "# keys = (\"image\", \"label\")\n",
    "# transforms = Compose(\n",
    "#     (\n",
    "#         LoadImaged(reader=\"NibabelReader\", keys=keys),\n",
    "#         EnsureChannelFirstd(keys=keys),\n",
    "#         Orientationd(keys, axcodes=\"RAI\"),\n",
    "#         # CropForegroundd(keys=keys, source_key=\"label\"),\n",
    "#         # Spacingd(keys=\"image\", pixdim=(1, 1, 1)),\n",
    "#     )\n",
    "# )"
   ]
  },
  {
   "cell_type": "code",
   "execution_count": 115,
   "metadata": {},
   "outputs": [],
   "source": [
    "# num_workers = 4\n",
    "# dataset = Dataset(data_dicts, transforms)\n",
    "# dl = DataLoader(\n",
    "#     dataset,\n",
    "#     batch_size=2,\n",
    "#     num_workers=num_workers,\n",
    "# )"
   ]
  },
  {
   "cell_type": "code",
   "execution_count": 150,
   "metadata": {},
   "outputs": [
    {
     "name": "stderr",
     "output_type": "stream",
     "text": [
      "  8%|▊         | 4/50 [00:02<00:19,  2.34it/s]"
     ]
    },
    {
     "name": "stdout",
     "output_type": "stream",
     "text": [
      "FLARE22_Tr_0001_0000\n",
      "Image size in mm: [330 330 275]  Pix dim: [1.289 1.289 2.148]  Label vol: 3049896.8\n",
      "FLARE22_Tr_0002_0000\n",
      "Image size in mm: [380 380 267]  Pix dim: [1.484 1.484 2.09 ]  Label vol: 3753164.5\n",
      "FLARE22_Tr_0003_0000\n",
      "Image size in mm: [393 393 252]  Pix dim: [1.535 1.535 1.973]  Label vol: 2933875.5\n",
      "FLARE22_Tr_0004_0000\n",
      "Image size in mm: [375 375 217]  Pix dim: [1.465 1.465 1.699]  Label vol: 2900706.2\n"
     ]
    },
    {
     "name": "stderr",
     "output_type": "stream",
     "text": [
      " 12%|█▏        | 6/50 [00:03<00:23,  1.89it/s]"
     ]
    },
    {
     "name": "stdout",
     "output_type": "stream",
     "text": [
      "FLARE22_Tr_0005_0000\n",
      "Image size in mm: [396 396 212]  Pix dim: [1.547 1.547 1.66 ]  Label vol: 2906294.5\n",
      "FLARE22_Tr_0006_0000\n",
      "Image size in mm: [442 442 232]  Pix dim: [1.727 1.727 1.816]  Label vol: 3360994.0\n",
      "FLARE22_Tr_0007_0000\n",
      "Image size in mm: [407 407 262]  Pix dim: [1.59 1.59 2.05]  Label vol: 4140359.0\n",
      "FLARE22_Tr_0008_0000\n",
      "Image size in mm: [400 400 247]  Pix dim: [1.5625 1.5625 1.934 ]  Label vol: 3630652.8\n"
     ]
    },
    {
     "name": "stderr",
     "output_type": "stream",
     "text": [
      " 18%|█▊        | 9/50 [00:04<00:20,  2.02it/s]"
     ]
    },
    {
     "name": "stdout",
     "output_type": "stream",
     "text": [
      "FLARE22_Tr_0009_0000\n",
      "Image size in mm: [413 413 217]  Pix dim: [1.613 1.613 1.699]  Label vol: 3036181.5\n",
      "FLARE22_Tr_0010_0000\n",
      "Image size in mm: [420 420 240]  Pix dim: [1.641 1.641 1.875]  Label vol: 3218221.2\n",
      "FLARE22_Tr_0011_0000\n",
      "Image size in mm: [392 392 210]  Pix dim: [1.531 1.531 1.641]  Label vol: 3092598.5\n",
      "FLARE22_Tr_0012_0000\n",
      "Image size in mm: [421 421 257]  Pix dim: [1.645 1.645 2.012]  Label vol: 3252469.5\n"
     ]
    },
    {
     "name": "stderr",
     "output_type": "stream",
     "text": [
      " 26%|██▌       | 13/50 [00:06<00:15,  2.32it/s]"
     ]
    },
    {
     "name": "stdout",
     "output_type": "stream",
     "text": [
      "FLARE22_Tr_0013_0000\n",
      "Image size in mm: [398 398 227]  Pix dim: [1.555 1.555 1.777]  Label vol: 2944923.2\n",
      "FLARE22_Tr_0014_0000\n",
      "Image size in mm: [418 418 177]  Pix dim: [1.633 1.633 1.387]  Label vol: 2955349.5\n",
      "FLARE22_Tr_0015_0000\n",
      "Image size in mm: [370 370 210]  Pix dim: [1.445 1.445 1.641]  Label vol: 4209781.5\n",
      "FLARE22_Tr_0016_0000\n",
      "Image size in mm: [385 385 232]  Pix dim: [1.504 1.504 1.816]  Label vol: 2697273.5\n"
     ]
    },
    {
     "name": "stderr",
     "output_type": "stream",
     "text": [
      " 34%|███▍      | 17/50 [00:07<00:13,  2.42it/s]"
     ]
    },
    {
     "name": "stdout",
     "output_type": "stream",
     "text": [
      "FLARE22_Tr_0017_0000\n",
      "Image size in mm: [474 474 270]  Pix dim: [1.852 1.852 2.11 ]  Label vol: 3869775.8\n",
      "FLARE22_Tr_0018_0000\n",
      "Image size in mm: [420 420 245]  Pix dim: [1.641 1.641 1.914]  Label vol: 3796865.0\n",
      "FLARE22_Tr_0019_0000\n",
      "Image size in mm: [386 386 490]  Pix dim: [1.508 1.508 3.828]  Label vol: 4461026.5\n",
      "FLARE22_Tr_0020_0000\n",
      "Image size in mm: [406 406 230]  Pix dim: [1.586 1.586 1.797]  Label vol: 3827118.2\n"
     ]
    },
    {
     "name": "stderr",
     "output_type": "stream",
     "text": [
      " 42%|████▏     | 21/50 [00:09<00:11,  2.52it/s]"
     ]
    },
    {
     "name": "stdout",
     "output_type": "stream",
     "text": [
      "FLARE22_Tr_0021_0000\n",
      "Image size in mm: [460 460 250]  Pix dim: [1.797 1.797 1.953]  Label vol: 2844348.2\n",
      "FLARE22_Tr_0022_0000\n",
      "Image size in mm: [394 394 490]  Pix dim: [1.539 1.539 3.828]  Label vol: 3267992.0\n",
      "FLARE22_Tr_0023_0000\n",
      "Image size in mm: [400 400 255]  Pix dim: [1.5625 1.5625 1.992 ]  Label vol: 2760891.8\n",
      "FLARE22_Tr_0024_0000\n",
      "Image size in mm: [408 408 247]  Pix dim: [1.594 1.594 1.934]  Label vol: 3441430.2\n"
     ]
    },
    {
     "name": "stderr",
     "output_type": "stream",
     "text": [
      " 52%|█████▏    | 26/50 [00:10<00:08,  2.85it/s]"
     ]
    },
    {
     "name": "stdout",
     "output_type": "stream",
     "text": [
      "FLARE22_Tr_0025_0000\n",
      "Image size in mm: [460 460 212]  Pix dim: [1.797 1.797 1.66 ]  Label vol: 2422573.8\n",
      "FLARE22_Tr_0026_0000\n",
      "Image size in mm: [350 350 416]  Pix dim: [1.367 1.367 3.25 ]  Label vol: 2266194.8\n",
      "FLARE22_Tr_0027_0000\n",
      "Image size in mm: [477 477 255]  Pix dim: [1.863 1.863 1.992]  Label vol: 3468726.8\n",
      "FLARE22_Tr_0028_0000\n",
      "Image size in mm: [500 500 222]  Pix dim: [1.953 1.953 1.738]  Label vol: 4205941.0\n"
     ]
    },
    {
     "name": "stderr",
     "output_type": "stream",
     "text": [
      " 60%|██████    | 30/50 [00:12<00:07,  2.85it/s]"
     ]
    },
    {
     "name": "stdout",
     "output_type": "stream",
     "text": [
      "FLARE22_Tr_0029_0000\n",
      "Image size in mm: [405 405 232]  Pix dim: [1.582 1.582 1.816]  Label vol: 2814067.2\n",
      "FLARE22_Tr_0030_0000\n",
      "Image size in mm: [409 409 247]  Pix dim: [1.598 1.598 1.934]  Label vol: 2825307.2\n",
      "FLARE22_Tr_0031_0000\n",
      "Image size in mm: [446 446 252]  Pix dim: [1.742 1.742 1.973]  Label vol: 3267975.0\n",
      "FLARE22_Tr_0032_0000\n",
      "Image size in mm: [465 465 257]  Pix dim: [1.816 1.816 2.012]  Label vol: 3064095.8\n"
     ]
    },
    {
     "name": "stderr",
     "output_type": "stream",
     "text": [
      " 68%|██████▊   | 34/50 [00:13<00:05,  2.90it/s]"
     ]
    },
    {
     "name": "stdout",
     "output_type": "stream",
     "text": [
      "FLARE22_Tr_0033_0000\n",
      "Image size in mm: [460 460 267]  Pix dim: [1.797 1.797 2.09 ]  Label vol: 2986725.5\n",
      "FLARE22_Tr_0034_0000\n",
      "Image size in mm: [394 394 235]  Pix dim: [1.539 1.539 1.836]  Label vol: 2781150.8\n",
      "FLARE22_Tr_0035_0000\n",
      "Image size in mm: [500 500 252]  Pix dim: [1.953 1.953 1.973]  Label vol: 3589729.5\n",
      "FLARE22_Tr_0036_0000\n",
      "Image size in mm: [396 396 222]  Pix dim: [1.547 1.547 1.738]  Label vol: 2471551.8\n"
     ]
    },
    {
     "name": "stderr",
     "output_type": "stream",
     "text": [
      " 74%|███████▍  | 37/50 [00:15<00:04,  2.61it/s]"
     ]
    },
    {
     "name": "stdout",
     "output_type": "stream",
     "text": [
      "FLARE22_Tr_0037_0000\n",
      "Image size in mm: [374 374 197]  Pix dim: [1.461 1.461 1.543]  Label vol: 3364015.0\n"
     ]
    },
    {
     "name": "stderr",
     "output_type": "stream",
     "text": [
      " 76%|███████▌  | 38/50 [00:15<00:04,  2.77it/s]"
     ]
    },
    {
     "name": "stdout",
     "output_type": "stream",
     "text": [
      "FLARE22_Tr_0038_0000\n",
      "Image size in mm: [429 429 272]  Pix dim: [1.676 1.676 2.129]  Label vol: 3870836.2\n",
      "FLARE22_Tr_0039_0000\n",
      "Image size in mm: [451 451 250]  Pix dim: [1.762 1.762 1.953]  Label vol: 3774145.0\n",
      "FLARE22_Tr_0040_0000\n",
      "Image size in mm: [393 393 232]  Pix dim: [1.535 1.535 1.816]  Label vol: 3070052.0\n"
     ]
    },
    {
     "name": "stderr",
     "output_type": "stream",
     "text": [
      " 82%|████████▏ | 41/50 [00:16<00:03,  2.65it/s]"
     ]
    },
    {
     "name": "stdout",
     "output_type": "stream",
     "text": [
      "FLARE22_Tr_0041_0000\n",
      "Image size in mm: [399 399 245]  Pix dim: [1.559 1.559 1.914]  Label vol: 2747814.5\n"
     ]
    },
    {
     "name": "stderr",
     "output_type": "stream",
     "text": [
      " 84%|████████▍ | 42/50 [00:16<00:02,  2.80it/s]"
     ]
    },
    {
     "name": "stdout",
     "output_type": "stream",
     "text": [
      "FLARE22_Tr_0042_0000\n",
      "Image size in mm: [428 428 232]  Pix dim: [1.672 1.672 1.816]  Label vol: 3232397.5\n",
      "FLARE22_Tr_0043_0000\n",
      "Image size in mm: [444 444 212]  Pix dim: [1.734 1.734 1.66 ]  Label vol: 2719832.2\n",
      "FLARE22_Tr_0044_0000\n",
      "Image size in mm: [485 485 207]  Pix dim: [1.895 1.895 1.621]  Label vol: 4196430.5\n"
     ]
    },
    {
     "name": "stderr",
     "output_type": "stream",
     "text": [
      " 92%|█████████▏| 46/50 [00:18<00:01,  2.80it/s]"
     ]
    },
    {
     "name": "stdout",
     "output_type": "stream",
     "text": [
      "FLARE22_Tr_0045_0000\n",
      "Image size in mm: [500 500 282]  Pix dim: [1.953 1.953 2.207]  Label vol: 4385227.0\n",
      "FLARE22_Tr_0046_0000\n",
      "Image size in mm: [370 370 232]  Pix dim: [1.445 1.445 1.816]  Label vol: 2247100.5\n",
      "FLARE22_Tr_0047_0000\n",
      "Image size in mm: [493 493 282]  Pix dim: [1.926 1.926 2.207]  Label vol: 3216708.0\n",
      "FLARE22_Tr_0048_0000\n",
      "Image size in mm: [399 399 237]  Pix dim: [1.559 1.559 1.855]  Label vol: 4424049.5\n"
     ]
    },
    {
     "name": "stderr",
     "output_type": "stream",
     "text": [
      " 98%|█████████▊| 49/50 [00:19<00:00,  2.68it/s]"
     ]
    },
    {
     "name": "stdout",
     "output_type": "stream",
     "text": [
      "FLARE22_Tr_0049_0000\n",
      "Image size in mm: [392 392 217]  Pix dim: [1.531 1.531 1.699]  Label vol: 2678221.2\n"
     ]
    },
    {
     "name": "stderr",
     "output_type": "stream",
     "text": [
      "100%|██████████| 50/50 [00:19<00:00,  2.52it/s]"
     ]
    },
    {
     "name": "stdout",
     "output_type": "stream",
     "text": [
      "FLARE22_Tr_0050_0000\n",
      "Image size in mm: [420 420 237]  Pix dim: [1.641 1.641 1.855]  Label vol: 3899678.2\n"
     ]
    },
    {
     "name": "stderr",
     "output_type": "stream",
     "text": [
      "\n"
     ]
    }
   ],
   "source": [
    "spatial_size = 3\n",
    "image_sizes = np.empty((len(dl), spatial_size), dtype=np.uint16)\n",
    "pix_dims = np.empty((len(dl), spatial_size), dtype=np.float16)\n",
    "label_vol_orig = np.empty((len(dl)), dtype=np.float32)\n",
    "label_vol_cropped = np.empty((len(dl)), dtype=np.float32)\n",
    "label_vol_resized = np.empty((len(dl)), dtype=np.float32)\n",
    "\n",
    "# from monai.transforms.utils import generate_spatial_bounding_box\n",
    "for i, batch in enumerate(tqdm(dl)):\n",
    "    img_filename = batch[\"image_meta_dict\"]['filename_or_obj'][0].split('/')[-1].split('.')[0]\n",
    "    label_filename = batch[\"label_meta_dict\"]['filename_or_obj'][0].split('/')[-1].split('.')[0]\n",
    "\n",
    "    print(img_filename)\n",
    "    pix_dims[i] = np.abs(np.diag(batch['image_meta_dict']['affine'][0])[:-1])\n",
    "    image_sizes[i] = batch[\"image\"].shape[-spatial_size:] * pix_dims[i]\n",
    "    label_vol_orig[i] = get_label_volume(batch[\"label\"][0], pix_dims[i])\n",
    "    print(\"Image size in mm:\", image_sizes[i], \" Pix dim:\", pix_dims[i], \" Label vol:\", label_vol_orig[i])\n",
    "\n",
    "    # mask = foreground_mask(batch[\"image\"])\n",
    "    # crop_image = crop_foreground({\"image\": batch['image'], \"label\": mask})\n",
    "    # save_nifti_from_array(crop_image, f\"{i}_from_mask\")\n",
    "\n",
    "    # start_dim, end_dim = generate_spatial_bounding_box(batch[\"image\"])\n",
    "    # print(start_dim, end_dim)\n",
    "    # _, x1, y1, z1 = start_dim\n",
    "    # _, x2, y2, z2 = end_dim\n",
    "    # print(\"Bounding box in pix:\", x1, y1, z1, x2, y2, z2)\n",
    "    # x1, y1, z1, x2, y2, z2 = get_min_sized_abdomen(image_sizes[i], pix_dim, torch.tensor((x1, y1, z1, x2, y2, z2)))\n",
    "    # print(\"Bounding box in pix after resize:\", x1, y1, z1, x2, y2, z2)"
   ]
  },
  {
   "cell_type": "code",
   "execution_count": 151,
   "metadata": {},
   "outputs": [],
   "source": [
    "labels = (\"Frontal (X) Axis\", \"Sagittal (Y) Axis\", \"Longitudinal (Z) Axis\")"
   ]
  },
  {
   "cell_type": "markdown",
   "metadata": {},
   "source": [
    "![CT Scan Axes](ct_scan_axes.png)"
   ]
  },
  {
   "cell_type": "code",
   "execution_count": 152,
   "metadata": {},
   "outputs": [
    {
     "data": {
      "image/png": "[encoded data removed]",
      "text/plain": [
       "<Figure size 720x504 with 1 Axes>"
      ]
     },
     "metadata": {
      "needs_background": "light"
     },
     "output_type": "display_data"
    }
   ],
   "source": [
    "plt.figure(figsize=(10, 7))\n",
    "plt.hist(image_sizes, bins=\"auto\", label=labels)\n",
    "plt.xlabel(\"Image Resoluton\")\n",
    "plt.ylabel(\"Number of Images\")\n",
    "plt.legend();"
   ]
  },
  {
   "cell_type": "code",
   "execution_count": 153,
   "metadata": {},
   "outputs": [
    {
     "data": {
      "image/png": "[encoded data removed]",
      "text/plain": [
       "<Figure size 720x504 with 1 Axes>"
      ]
     },
     "metadata": {
      "needs_background": "light"
     },
     "output_type": "display_data"
    }
   ],
   "source": [
    "plt.figure(figsize=(10, 7))\n",
    "plt.boxplot(\n",
    "    image_sizes,\n",
    "    showmeans=True,\n",
    "    meanline=True,\n",
    "    labels=labels,\n",
    ")\n",
    "plt.ylabel(\"Image Resolution\");\n"
   ]
  },
  {
   "cell_type": "code",
   "execution_count": 154,
   "metadata": {},
   "outputs": [
    {
     "data": {
      "image/png": "[encoded data removed]",
      "text/plain": [
       "<Figure size 720x504 with 1 Axes>"
      ]
     },
     "metadata": {
      "needs_background": "light"
     },
     "output_type": "display_data"
    }
   ],
   "source": [
    "plt.figure(figsize=(10, 7))\n",
    "plt.violinplot(image_sizes, showmeans=True)\n",
    "plt.xlabel(\"Image Axes\")\n",
    "plt.ylabel(\"Image Resolution\");"
   ]
  },
  {
   "cell_type": "code",
   "execution_count": 155,
   "metadata": {},
   "outputs": [],
   "source": [
    "image_volumes = label_vol_orig"
   ]
  },
  {
   "cell_type": "code",
   "execution_count": 156,
   "metadata": {},
   "outputs": [
    {
     "data": {
      "image/png": "[encoded data removed]",
      "text/plain": [
       "<Figure size 504x360 with 1 Axes>"
      ]
     },
     "metadata": {
      "needs_background": "light"
     },
     "output_type": "display_data"
    }
   ],
   "source": [
    "plt.figure(figsize=(7, 5))\n",
    "plt.hist(image_volumes, bins=\"auto\")\n",
    "plt.xlabel(\"Volume of adomen in mm^3\")\n",
    "plt.ylabel(\"Number of Images\");"
   ]
  },
  {
   "cell_type": "markdown",
   "metadata": {},
   "source": [
    "Images with outlier volumes"
   ]
  },
  {
   "cell_type": "code",
   "execution_count": 159,
   "metadata": {},
   "outputs": [
    {
     "data": {
      "text/plain": [
       "(array([ 6, 14, 18, 27, 43, 44, 47]),)"
      ]
     },
     "execution_count": 159,
     "metadata": {},
     "output_type": "execute_result"
    }
   ],
   "source": [
    "outlier_indices = np.where(image_volumes > 4e6)\n",
    "outlier_indices"
   ]
  },
  {
   "cell_type": "code",
   "execution_count": 160,
   "metadata": {},
   "outputs": [
    {
     "data": {
      "text/plain": [
       "array([[407, 407, 262],\n",
       "       [370, 370, 210],\n",
       "       [386, 386, 490],\n",
       "       [500, 500, 222],\n",
       "       [485, 485, 207],\n",
       "       [500, 500, 282],\n",
       "       [399, 399, 237]], dtype=uint16)"
      ]
     },
     "execution_count": 160,
     "metadata": {},
     "output_type": "execute_result"
    }
   ],
   "source": [
    "image_sizes[outlier_indices]"
   ]
  },
  {
   "cell_type": "markdown",
   "metadata": {},
   "source": [
    "Image with maximum volume"
   ]
  },
  {
   "cell_type": "code",
   "execution_count": 161,
   "metadata": {},
   "outputs": [
    {
     "data": {
      "text/plain": [
       "18"
      ]
     },
     "execution_count": 161,
     "metadata": {},
     "output_type": "execute_result"
    }
   ],
   "source": [
    "max_index = image_volumes.argmax()\n",
    "max_index"
   ]
  },
  {
   "cell_type": "code",
   "execution_count": 162,
   "metadata": {},
   "outputs": [
    {
     "data": {
      "text/plain": [
       "array([386, 386, 490], dtype=uint16)"
      ]
     },
     "execution_count": 162,
     "metadata": {},
     "output_type": "execute_result"
    }
   ],
   "source": [
    "image_sizes[max_index]"
   ]
  },
  {
   "cell_type": "code",
   "execution_count": 163,
   "metadata": {},
   "outputs": [
    {
     "data": {
      "image/png": "[encoded data removed]",
      "text/plain": [
       "<Figure size 720x504 with 1 Axes>"
      ]
     },
     "metadata": {
      "needs_background": "light"
     },
     "output_type": "display_data"
    }
   ],
   "source": [
    "plt.figure(figsize=(10, 7))\n",
    "plt.boxplot(image_volumes, showmeans=True, meanline=True, labels=(\"Volume of adomen\",))\n",
    "plt.ylabel(\"Size in mm^3\");"
   ]
  },
  {
   "cell_type": "code",
   "execution_count": 164,
   "metadata": {},
   "outputs": [
    {
     "data": {
      "image/png": "[encoded data removed]",
      "text/plain": [
       "<Figure size 720x504 with 1 Axes>"
      ]
     },
     "metadata": {
      "needs_background": "light"
     },
     "output_type": "display_data"
    }
   ],
   "source": [
    "plt.figure(figsize=(10, 7))\n",
    "plt.violinplot(image_volumes, showmeans=True)\n",
    "plt.xlabel(\"Adbomen Volume\")\n",
    "plt.ylabel(\"Size in mm^3\");"
   ]
  },
  {
   "cell_type": "markdown",
   "metadata": {},
   "source": [
    "Calculate max size in each dimension"
   ]
  },
  {
   "cell_type": "code",
   "execution_count": 165,
   "metadata": {},
   "outputs": [
    {
     "data": {
      "text/plain": [
       "array([500, 500, 490], dtype=uint16)"
      ]
     },
     "execution_count": 165,
     "metadata": {},
     "output_type": "execute_result"
    }
   ],
   "source": [
    "max_shape = image_sizes.max(axis=0)\n",
    "max_shape"
   ]
  },
  {
   "cell_type": "code",
   "execution_count": 166,
   "metadata": {},
   "outputs": [
    {
     "data": {
      "text/plain": [
       "122500000"
      ]
     },
     "execution_count": 166,
     "metadata": {},
     "output_type": "execute_result"
    }
   ],
   "source": [
    "max_shape.prod()"
   ]
  },
  {
   "cell_type": "code",
   "execution_count": 167,
   "metadata": {},
   "outputs": [
    {
     "data": {
      "text/plain": [
       "4461026.5"
      ]
     },
     "execution_count": 167,
     "metadata": {},
     "output_type": "execute_result"
    }
   ],
   "source": [
    "image_volumes[max_index]"
   ]
  },
  {
   "cell_type": "code",
   "execution_count": 168,
   "metadata": {},
   "outputs": [
    {
     "data": {
      "text/plain": [
       "array([330, 330, 177], dtype=uint16)"
      ]
     },
     "execution_count": 168,
     "metadata": {},
     "output_type": "execute_result"
    }
   ],
   "source": [
    "image_sizes.min(axis=0)"
   ]
  },
  {
   "cell_type": "markdown",
   "metadata": {},
   "source": [
    "Proportion of each axis"
   ]
  },
  {
   "cell_type": "code",
   "execution_count": 54,
   "metadata": {},
   "outputs": [],
   "source": [
    "image_size_prop = (image_sizes.T / image_sizes.sum(axis=1)).T"
   ]
  },
  {
   "cell_type": "code",
   "execution_count": 55,
   "metadata": {},
   "outputs": [
    {
     "ename": "AssertionError",
     "evalue": "The proportion is not properly normalized",
     "output_type": "error",
     "traceback": [
      "\u001b[0;31m---------------------------------------------------------------------------\u001b[0m",
      "\u001b[0;31mAssertionError\u001b[0m                            Traceback (most recent call last)",
      "\u001b[1;32m/home/safal/flare/notebooks/abdomen_size.ipynb Cell 35'\u001b[0m in \u001b[0;36m<cell line: 2>\u001b[0;34m()\u001b[0m\n\u001b[0;32m----> <a href='vscode-notebook-cell://ssh-remote%2Bnaamii/home/safal/flare/notebooks/abdomen_size.ipynb#ch0000032vscode-remote?line=0'>1</a>\u001b[0m \u001b[39massert\u001b[39;00m (\n\u001b[1;32m      <a href='vscode-notebook-cell://ssh-remote%2Bnaamii/home/safal/flare/notebooks/abdomen_size.ipynb#ch0000032vscode-remote?line=1'>2</a>\u001b[0m     image_size_prop\u001b[39m.\u001b[39msum() \u001b[39m==\u001b[39m image_size_prop\u001b[39m.\u001b[39mshape[\u001b[39m0\u001b[39m]\n\u001b[1;32m      <a href='vscode-notebook-cell://ssh-remote%2Bnaamii/home/safal/flare/notebooks/abdomen_size.ipynb#ch0000032vscode-remote?line=2'>3</a>\u001b[0m ), \u001b[39m\"\u001b[39m\u001b[39mThe proportion is not properly normalized\u001b[39m\u001b[39m\"\u001b[39m\n",
      "\u001b[0;31mAssertionError\u001b[0m: The proportion is not properly normalized"
     ]
    }
   ],
   "source": [
    "assert (\n",
    "    image_size_prop.sum() == image_size_prop.shape[0]\n",
    "), \"The proportion is not properly normalized\"\n"
   ]
  },
  {
   "cell_type": "code",
   "execution_count": 56,
   "metadata": {},
   "outputs": [
    {
     "data": {
      "image/png": "[encoded data removed]",
      "text/plain": [
       "<Figure size 720x504 with 1 Axes>"
      ]
     },
     "metadata": {
      "needs_background": "light"
     },
     "output_type": "display_data"
    }
   ],
   "source": [
    "plt.figure(figsize=(10, 7))\n",
    "plt.violinplot(image_size_prop, showmeans=True)\n",
    "plt.ylabel(\"Image Proportion\")\n",
    "plt.xlabel(\"CT Axes\");"
   ]
  },
  {
   "cell_type": "markdown",
   "metadata": {},
   "source": [
    "# Evaluate the performance of minimum abdomen clipper"
   ]
  },
  {
   "cell_type": "code",
   "execution_count": 9,
   "metadata": {},
   "outputs": [],
   "source": [
    "from monai.transforms import (\n",
    "    Compose,\n",
    "    EnsureChannelFirstd,\n",
    "    HistogramNormalized,\n",
    "    KeepLargestConnectedComponent,\n",
    "    LoadImaged,\n",
    "    Orientationd,\n",
    "    ToTensord,\n",
    ")\n",
    "from custom_transforms import CustomResize, CustomResized\n",
    "from saver import NiftiSaver\n",
    "from monai.inferers import SlidingWindowInferer\n",
    "from torch.nn import functional as F\n",
    "import gc\n",
    "\n",
    "\n"
   ]
  },
  {
   "cell_type": "code",
   "execution_count": 12,
   "metadata": {},
   "outputs": [],
   "source": [
    "transforms = Compose(\n",
    "        (\n",
    "            LoadImaged(reader=\"NibabelReader\", keys=[\"image\", \"label\"]),\n",
    "            EnsureChannelFirstd(keys=[\"image\", \"label\"]),\n",
    "            CustomResized(keys=[\"image\", \"label\"], roi_size=intermediate_roi_size),\n",
    "            Orientationd(keys=[\"image\", \"label\"], axcodes=\"RAI\"),\n",
    "            HistogramNormalized(keys=\"image\", min=-1, max=1),\n",
    "            ToTensord(keys=[\"image\", \"label\"]),\n",
    "        )\n",
    "    )\n",
    "\n",
    "dataset = Dataset(data_dicts, transforms)\n",
    "\n",
    "saver = NiftiSaver(\n",
    "    output_dir,\n",
    "    output_dtype=np.uint8,\n",
    "    dtype=np.float32,\n",
    "    mode=\"nearest\",\n",
    "    padding_mode=\"zeros\",\n",
    "    separate_folder=False,\n",
    "    channel_dim=0,\n",
    "    print_log=True,  # make false for docker\n",
    ")\n",
    "\n",
    "device = torch.device(\"cpu\" if gpu_index < 0 else f\"cuda:{gpu_index}\")\n",
    "\n",
    "coarse_sliding_inferer = SlidingWindowInferer(\n",
    "    coarse_roi_size,\n",
    "    sw_batch_size,\n",
    "    sw_overlap,\n",
    "    mode=\"gaussian\",\n",
    "    cache_roi_weight_map=True,\n",
    ")\n",
    "\n",
    "resize_fine = CustomResize(roi_size=fine_roi_size, image_only=True)\n",
    "\n",
    "keep_connected_component_coarse = KeepLargestConnectedComponent(\n",
    "            independent=False,\n",
    "            connectivity=None,\n",
    "        )\n",
    "\n",
    "dl = DataLoader(\n",
    "    dataset,\n",
    "    batch_size=1,  # Because the images do not align and are not cropped\n",
    "    num_workers=num_workers,\n",
    ")\n",
    "\n",
    "coarse_model = torch.jit.optimize_for_inference(\n",
    "    torch.jit.load(coarse_ckpt_path, map_location=device)\n",
    ")\n",
    "\n",
    "def get_label_volume(arr, pix_dim):\n",
    "    arr = np.count_nonzero(arr)\n",
    "    return arr * pix_dim[0] * pix_dim[1] * pix_dim[2]\n",
    "\n",
    "spatial_size = 3\n",
    "label_vol_orig = np.empty((len(dl)), dtype=np.float32)\n",
    "label_vol_cropped = np.empty((len(dl)), dtype=np.float32)\n",
    "label_vol_resized = np.empty((len(dl)), dtype=np.float32)\n"
   ]
  },
  {
   "cell_type": "code",
   "execution_count": 13,
   "metadata": {},
   "outputs": [
    {
     "name": "stdout",
     "output_type": "stream",
     "text": [
      "FLARE22_Tr_0001_0000\n",
      "[0.644531 0.644531 2.5     ] Old box tensor([ 22,  56,   0, 238, 220, 126])\n",
      "New box:  12 45 0 238 234 127\n",
      "FLARE22_Tr_0002_0000\n",
      "[0.742188 0.742188 2.5     ] Old box tensor([ 24,  42,   0, 236, 198, 126])\n",
      "New box:  8 20 0 236 204 127\n",
      "FLARE22_Tr_0003_0000\n",
      "[0.767578 0.767578 2.5     ] Old box tensor([ 36,  60,   0, 222, 198, 126])\n",
      "New box:  10 30 0 222 210 127\n",
      "FLARE22_Tr_0004_0000\n",
      "[0.732422 0.732422 2.5     ] Old box tensor([ 26,  66,   0, 230, 206, 126])\n",
      "New box:  9 39 0 230 221 127\n",
      "FLARE22_Tr_0005_0000\n",
      "[0.773438 0.773438 2.5     ] Old box tensor([ 30,  62,   0, 228, 212, 126])\n",
      "New box:  8 23 0 227 217 127\n",
      "FLARE22_Tr_0006_0000\n",
      "[0.863281 0.863281 2.5     ] Old box tensor([ 54,  64,   0, 218, 186, 126])\n",
      "New box:  8 21 0 217 197 127\n",
      "FLARE22_Tr_0007_0000\n",
      "[0.794922 0.794922 2.5     ] Old box tensor([ 32,  64,   0, 236, 204, 126])\n",
      "New box:  8 25 0 236 212 127\n",
      "FLARE22_Tr_0008_0000\n",
      "[0.78125 0.78125 2.5    ] Old box tensor([ 26,  52,   0, 236, 206, 126])\n",
      "New box:  7 17 0 236 209 127\n",
      "FLARE22_Tr_0009_0000\n",
      "[0.806641 0.806641 2.5     ] Old box tensor([ 32,  70,   0, 228, 208, 126])\n",
      "New box:  7 25 0 228 216 127\n",
      "FLARE22_Tr_0010_0000\n",
      "[0.820312 0.820312 2.5     ] Old box tensor([ 30,  56,   0, 236, 206, 126])\n",
      "New box:  6 13 0 236 207 127\n",
      "FLARE22_Tr_0011_0000\n",
      "[0.765625 0.765625 2.5     ] Old box tensor([ 34,  46,   0, 234, 204, 126])\n",
      "New box:  10 16 0 234 206 127\n",
      "FLARE22_Tr_0012_0000\n",
      "[0.822266 0.822266 2.5     ] Old box tensor([ 40,  60,   0, 230, 208, 126])\n",
      "New box:  8 14 0 229 210 127\n",
      "FLARE22_Tr_0013_0000\n",
      "[0.777344 0.777344 2.5     ] Old box tensor([ 30,  54,   0, 234, 202, 126])\n",
      "New box:  8 21 0 233 208 127\n",
      "FLARE22_Tr_0014_0000\n",
      "[0.816406 0.816406 2.5     ] Old box tensor([ 46,  68,   0, 228, 198, 126])\n",
      "New box:  10 26 0 227 209 127\n",
      "FLARE22_Tr_0015_0000\n",
      "[0.722656 0.722656 2.5     ] Old box tensor([ 28,  54,   0, 238, 206, 126])\n",
      "New box:  10 31 0 238 216 127\n",
      "FLARE22_Tr_0016_0000\n",
      "[0.751953 0.751953 2.5     ] Old box tensor([ 40,  68,   0, 222, 196, 126])\n",
      "New box:  13 41 0 222 215 127\n",
      "FLARE22_Tr_0017_0000\n",
      "[0.925781 0.925781 2.5     ] Old box tensor([ 38,  80,   0, 230, 228, 126])\n",
      "New box:  3 6 0 230 228 127\n",
      "FLARE22_Tr_0018_0000\n",
      "[0.820312 0.820312 2.5     ] Old box tensor([ 26,  56,   0, 230, 204, 126])\n",
      "New box:  5 14 0 230 206 127\n",
      "FLARE22_Tr_0019_0000\n",
      "[0.753906 0.753906 5.      ] Old box tensor([ 26,  42,   0, 240, 206, 126])\n",
      "New box:  8 14 0 240 206 126\n",
      "FLARE22_Tr_0020_0000\n",
      "[0.792969 0.792969 2.5     ] Old box tensor([ 32,  64,   0, 234, 208, 126])\n",
      "New box:  8 23 0 233 214 127\n",
      "FLARE22_Tr_0021_0000\n",
      "[0.898438 0.898438 2.5     ] Old box tensor([ 38,  66,   0, 234, 210, 126])\n",
      "New box:  4 7 0 233 209 127\n",
      "FLARE22_Tr_0022_0000\n",
      "[0.769531 0.769531 5.      ] Old box tensor([ 26,  38,   0, 230, 194, 126])\n",
      "New box:  7 14 0 230 197 126\n",
      "FLARE22_Tr_0023_0000\n",
      "[0.78125 0.78125 2.5    ] Old box tensor([ 38,  74,   0, 234, 208, 126])\n",
      "New box:  10 33 0 234 221 127\n",
      "FLARE22_Tr_0024_0000\n",
      "[0.796875 0.796875 2.5     ] Old box tensor([ 30,  60,   0, 234, 206, 126])\n",
      "New box:  7 20 0 234 211 127\n",
      "FLARE22_Tr_0025_0000\n",
      "[0.898438 0.898438 2.5     ] Old box tensor([ 54,  74,   0, 214, 194, 126])\n",
      "New box:  6 17 0 214 203 127\n",
      "FLARE22_Tr_0026_0000\n",
      "[0.683594 0.683594 4.      ] Old box tensor([ 24,  42,   0, 226, 200, 126])\n",
      "New box:  11 31 0 225 212 126\n",
      "FLARE22_Tr_0027_0000\n",
      "[0.931641 0.931641 2.5     ] Old box tensor([ 36,  62,   0, 228, 204, 126])\n",
      "New box:  2 4 0 227 203 127\n",
      "FLARE22_Tr_0028_0000\n",
      "[0.976562 0.976562 2.5     ] Old box tensor([ 40,  78,   0, 234, 204, 126])\n",
      "New box:  0 2 0 234 205 127\n",
      "FLARE22_Tr_0029_0000\n",
      "[0.791016 0.791016 2.5     ] Old box tensor([ 32,  62,   0, 232, 202, 126])\n",
      "New box:  8 25 0 232 211 127\n",
      "FLARE22_Tr_0030_0000\n",
      "[0.798828 0.798828 2.5     ] Old box tensor([ 46,  64,   0, 226, 200, 126])\n",
      "New box:  11 26 0 226 210 127\n",
      "FLARE22_Tr_0031_0000\n",
      "[0.871094 0.871094 2.5     ] Old box tensor([ 36,  66,   0, 220, 202, 126])\n",
      "New box:  5 13 0 220 205 127\n",
      "FLARE22_Tr_0032_0000\n",
      "[0.908203 0.908203 2.5     ] Old box tensor([ 46,  70,   0, 218, 194, 126])\n",
      "New box:  4 13 0 218 200 127\n",
      "FLARE22_Tr_0033_0000\n",
      "[0.898438 0.898438 2.5     ] Old box tensor([ 58,  70,   0, 216, 190, 126])\n",
      "New box:  6 17 0 216 199 127\n",
      "FLARE22_Tr_0034_0000\n",
      "[0.769531 0.769531 2.5     ] Old box tensor([ 32,  52,   0, 230, 194, 126])\n",
      "New box:  9 25 0 230 204 127\n",
      "FLARE22_Tr_0035_0000\n",
      "[0.976562 0.976562 2.5     ] Old box tensor([ 52,  84,   0, 210, 198, 126])\n",
      "New box:  1 9 0 209 205 127\n",
      "FLARE22_Tr_0036_0000\n",
      "[0.773438 0.773438 2.5     ] Old box tensor([ 50,  74,   0, 208, 186, 126])\n",
      "New box:  16 46 0 209 210 127\n",
      "FLARE22_Tr_0037_0000\n",
      "[0.730469 0.730469 2.5     ] Old box tensor([ 30,  68,   0, 232, 204, 126])\n",
      "New box:  11 42 0 231 221 127\n",
      "FLARE22_Tr_0038_0000\n",
      "[0.837891 0.837891 2.5     ] Old box tensor([ 32,  60,   0, 234, 208, 126])\n",
      "New box:  6 12 0 234 208 127\n",
      "FLARE22_Tr_0039_0000\n",
      "[0.880859 0.880859 2.5     ] Old box tensor([ 34,  58,   0, 234, 208, 126])\n",
      "New box:  4 7 0 233 207 127\n",
      "FLARE22_Tr_0040_0000\n",
      "[0.767578 0.767578 2.5     ] Old box tensor([ 38,  58,   0, 228, 208, 126])\n",
      "New box:  11 23 0 228 214 127\n",
      "FLARE22_Tr_0041_0000\n",
      "[0.779297 0.779297 2.5     ] Old box tensor([ 58,  78,   0, 218, 202, 126])\n",
      "New box:  16 40 0 218 220 127\n",
      "FLARE22_Tr_0042_0000\n",
      "[0.835938 0.835938 2.5     ] Old box tensor([ 26,  56,   0, 238, 208, 126])\n",
      "New box:  5 10 0 238 208 127\n",
      "FLARE22_Tr_0043_0000\n",
      "[0.867188 0.867188 2.5     ] Old box tensor([ 52,  94,   0, 204, 198, 126])\n",
      "New box:  7 34 0 204 218 127\n",
      "FLARE22_Tr_0044_0000\n",
      "[0.947266 0.947266 2.5     ] Old box tensor([ 50,  74,   0, 214, 196, 126])\n",
      "New box:  2 9 0 214 200 127\n",
      "FLARE22_Tr_0045_0000\n",
      "[0.976562 0.976562 2.5     ] Old box tensor([ 28,  62,   0, 228, 206, 126])\n",
      "New box:  0 1 0 228 206 127\n",
      "FLARE22_Tr_0046_0000\n",
      "[0.722656 0.722656 2.5     ] Old box tensor([ 40,  64,   0, 220, 190, 126])\n",
      "New box:  15 48 0 219 213 127\n",
      "FLARE22_Tr_0047_0000\n",
      "[0.962891 0.962891 2.5     ] Old box tensor([ 44,  72,   0, 214, 180, 126])\n",
      "New box:  1 13 0 214 190 127\n",
      "FLARE22_Tr_0048_0000\n",
      "[0.779297 0.779297 2.5     ] Old box tensor([ 26,  56,   0, 238, 212, 126])\n",
      "New box:  7 18 0 238 214 127\n",
      "FLARE22_Tr_0049_0000\n",
      "[0.765625 0.765625 2.5     ] Old box tensor([ 38,  64,   0, 222, 204, 126])\n",
      "New box:  11 31 0 222 215 127\n",
      "FLARE22_Tr_0050_0000\n",
      "[0.820312 0.820312 2.5     ] Old box tensor([ 34,  48,   0, 232, 198, 126])\n",
      "New box:  7 11 0 232 199 127\n"
     ]
    }
   ],
   "source": [
    "with torch.inference_mode():\n",
    "    for i, batch in enumerate(dl):\n",
    "        filename = (\n",
    "            batch[\"image_meta_dict\"][\"filename_or_obj\"][0]\n",
    "            .split(\"/\")[-1]\n",
    "            .split(\".\")[0]\n",
    "        )\n",
    "        print(filename)\n",
    "        meta_data = {k: v[0] for k, v in batch[\"image_meta_dict\"].items()}\n",
    "        pixdim = np.abs(np.diag(meta_data['affine'])[:-1])\n",
    "\n",
    "        image = batch[\"image\"].to(device)\n",
    "        label = batch.get(\"label\")\n",
    "        label_vol_orig[i] = get_label_volume(label.cpu().numpy(), pixdim)\n",
    "        coarse_image = F.interpolate(\n",
    "            input=image,\n",
    "            scale_factor=inverse_coarse_scale,\n",
    "            mode=\"trilinear\",\n",
    "            recompute_scale_factor=True,\n",
    "        )\n",
    "\n",
    "        coarse_output: np.ndarray = (\n",
    "            (coarse_sliding_inferer(coarse_image, coarse_model) >= 0.5)\n",
    "            .squeeze(0)\n",
    "            .cpu()\n",
    "            .numpy()\n",
    "        )\n",
    "\n",
    "        # final_output = torch.zeros(image.shape[1:], dtype=int, device=device)\n",
    "\n",
    "        if coarse_output.any():\n",
    "            coarse_output = keep_connected_component_coarse(coarse_output)\n",
    "            x_indices, y_indices, z_indices = np.where(coarse_output.squeeze(0))\n",
    "\n",
    "            # Multiplying less scale rather than all the indices\n",
    "            x1 = int(x_indices.min() * coarse_scale[0])\n",
    "            x2 = math.ceil(x_indices.max() * coarse_scale[0])\n",
    "            y1 = int(y_indices.min() * coarse_scale[1])\n",
    "            y2 = math.ceil(y_indices.max() * coarse_scale[1])\n",
    "            z1 = int(z_indices.min() * coarse_scale[2])\n",
    "            z2 = math.ceil(z_indices.max() * coarse_scale[2])\n",
    "            cropped_label = label[0, :, x1 : x2 + 1, y1 : y2 + 1, z1 : z2 + 1]\n",
    "            cropped_image = image[0, :, x1 : x2 + 1, y1 : y2 + 1, z1 : z2 + 1]\n",
    "\n",
    "            label_vol_cropped[i] = get_label_volume(cropped_label, pixdim)\n",
    "            save_nifti_from_array(cropped_image,\"/home/safal/abdomen_intermediate/cropped\", f\"{filename}_cropped\")\n",
    "            x1, y1, z1, x2, y2, z2 = get_min_sized_abdomen(\n",
    "                orig_size_pix=image.shape[-3:],\n",
    "                img_pix_dim=batch[\"image_meta_dict\"][\"pixdim\"][0][1:4].numpy(),\n",
    "                boxes_pix=torch.tensor([x1, y1, z1, x2, y2, z2]),\n",
    "            )\n",
    "            cropped_label = label[0, :, x1 : x2 + 1, y1 : y2 + 1, z1 : z2 + 1]\n",
    "            cropped_image = image[0, :, x1 : x2 + 1, y1 : y2 + 1, z1 : z2 + 1]\n",
    "            label_vol_resized[i]= get_label_volume(cropped_label, pixdim)\n",
    "            save_nifti_from_array(cropped_image, \"/home/safal/abdomen_intermediate/resized\", f\"{filename}_resized\")\n",
    "\n",
    "\n",
    "        # Run garbage collector if RAM is OOM\n",
    "        # Reduced max GPU usage from 5G to 4G\n",
    "        gc.collect()\n",
    "        if gpu_index >= 0:\n",
    "            torch.cuda.empty_cache()"
   ]
  },
  {
   "cell_type": "code",
   "execution_count": 14,
   "metadata": {},
   "outputs": [
    {
     "data": {
      "text/plain": [
       "array([3049894.5, 3752593.5, 2933874.8, 2899482. , 2905122.2, 3360759.2,\n",
       "       4140360.2, 3630109.8, 3034636.2, 3217667.5, 3092598.5, 3251580.2,\n",
       "       2944925. , 2949902. , 4203558.5, 2697272.5, 3869773.8, 3794485.5,\n",
       "       4461024. , 3826117.2, 2844351.2, 3267990. , 2760891.8, 3440384.2,\n",
       "       2422142.2, 2266196.5, 3468729.5, 4205068.5, 2813337.8, 2824215.8,\n",
       "       3267282. , 3063072.8, 2986506. , 2780527.2, 3588522. , 2469687.2,\n",
       "       3363454. , 3869925. , 3774142. , 3070051. , 2743937.5, 3231147. ,\n",
       "       2719835.2, 4193547.8, 4384035.5, 2242253.8, 3216710.2, 4422293. ,\n",
       "       2677739.2, 3899673.8], dtype=float32)"
      ]
     },
     "execution_count": 14,
     "metadata": {},
     "output_type": "execute_result"
    }
   ],
   "source": [
    "label_vol_cropped"
   ]
  },
  {
   "cell_type": "code",
   "execution_count": 15,
   "metadata": {},
   "outputs": [
    {
     "data": {
      "text/plain": [
       "array([3049894.5, 3753169.2, 2933874.8, 2900707.2, 2906298.2, 3360992.2,\n",
       "       4140360.2, 3630652.8, 3036184. , 3218217.5, 3092598.5, 3252472.5,\n",
       "       2944925. , 2955348. , 4209779. , 2697272.5, 3869773.8, 3796860.8,\n",
       "       4461024. , 3827120.5, 2844351.2, 3267990. , 2760891.8, 3441430.2,\n",
       "       2422576.2, 2266196.5, 3468729.5, 4205937. , 2814069.8, 2825306.5,\n",
       "       3267976.8, 3064094.8, 2986728.5, 2781149. , 3589726. , 2471554.8,\n",
       "       3364017.2, 3870839.5, 3774142. , 3070051. , 2747815.2, 3232401. ,\n",
       "       2719835.2, 4196433.5, 4385222.5, 2247099. , 3216710.2, 4424051. ,\n",
       "       2678221.2, 3899673.8], dtype=float32)"
      ]
     },
     "execution_count": 15,
     "metadata": {},
     "output_type": "execute_result"
    }
   ],
   "source": [
    "label_vol_resized"
   ]
  },
  {
   "cell_type": "code",
   "execution_count": 16,
   "metadata": {},
   "outputs": [],
   "source": [
    "difference = label_vol_resized - label_vol_cropped"
   ]
  },
  {
   "cell_type": "code",
   "execution_count": 17,
   "metadata": {},
   "outputs": [
    {
     "data": {
      "text/plain": [
       "array([   0.  ,  575.75,    0.  , 1225.25, 1176.  ,  233.  ,    0.  ,\n",
       "        543.  , 1547.75,  550.  ,    0.  ,  892.25,    0.  , 5446.  ,\n",
       "       6220.5 ,    0.  ,    0.  , 2375.25,    0.  , 1003.25,    0.  ,\n",
       "          0.  ,    0.  , 1046.  ,  434.  ,    0.  ,    0.  ,  868.5 ,\n",
       "        732.  , 1090.75,  694.75, 1022.  ,  222.5 ,  621.75, 1204.  ,\n",
       "       1867.5 ,  563.25,  914.5 ,    0.  ,    0.  , 3877.75, 1254.  ,\n",
       "          0.  , 2885.75, 1187.  , 4845.25,    0.  , 1758.  ,  482.  ,\n",
       "          0.  ], dtype=float32)"
      ]
     },
     "execution_count": 17,
     "metadata": {},
     "output_type": "execute_result"
    }
   ],
   "source": [
    "difference"
   ]
  },
  {
   "cell_type": "code",
   "execution_count": 18,
   "metadata": {},
   "outputs": [
    {
     "data": {
      "image/png": "[encoded data removed]",
      "text/plain": [
       "<Figure size 1440x720 with 1 Axes>"
      ]
     },
     "metadata": {
      "needs_background": "light"
     },
     "output_type": "display_data"
    }
   ],
   "source": [
    "plt.figure(figsize=(20, 10))\n",
    "\n",
    "plt.bar(range(len(label_vol_cropped)), difference, color=\"blue\", label=\"Difference\")\n",
    "plt.ylabel(\"Difference between cropped and resized volumes in (mm^3)\")\n",
    "plt.xlabel(\"Image\")\n",
    "plt.xticks(range(len(label_vol_cropped)))\n",
    "plt.show()"
   ]
  },
  {
   "cell_type": "code",
   "execution_count": null,
   "metadata": {},
   "outputs": [],
   "source": []
  }
 ],
 "metadata": {
  "interpreter": {
   "hash": "bdcdac8fb45aa24d9326e102d60cf6447176f647e46a24abde4c9eff82669acd"
  },
  "kernelspec": {
   "display_name": "Python 3.8.10 ('.venv': venv)",
   "language": "python",
   "name": "python3"
  },
  "language_info": {
   "codemirror_mode": {
    "name": "ipython",
    "version": 3
   },
   "file_extension": ".py",
   "mimetype": "text/x-python",
   "name": "python",
   "nbconvert_exporter": "python",
   "pygments_lexer": "ipython3",
   "version": "3.8.10"
  },
  "orig_nbformat": 4,
  "vscode": {
   "interpreter": {
    "hash": "bc2a35d4c0d1db04d83670823dfe09e4cf6b111db27a2ee7d56ada95a2fd88ff"
   }
  }
 },
 "nbformat": 4,
 "nbformat_minor": 2
}
